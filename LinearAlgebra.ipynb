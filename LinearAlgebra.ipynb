{
 "cells": [
  {
   "cell_type": "markdown",
   "id": "4516a152-0184-4336-a3b7-af06ec6b98f0",
   "metadata": {},
   "source": [
    "# Linear algebra\n",
    "\n",
    "- Complex Vector space: in QC we work in complex finite inner product vector spaces (Hilbert spaces), where the scalars, components of vectors and components of linear transforms are complex numbers.\n",
    "- (something about basis and orthonormal basis)\n",
    "- Ket: |v> column vector with complex components. v is an arbitrary name for the vector. A single Qbit is represented by a two dimensional column vector, with the standard \"computational\" basis |0> and |1>. \n",
    "    - Example: $\\left(\\begin{array}{cc} a \\\\ b \\end{array}\\right)$ in the computational basis is a|0>+b|1>.  The basis |0> as a vector is $\\left(\\begin{array}{cc} 1 \\\\ 0 \\end{array}\\right)$\n",
    "- Bra: <v| dual vector \"AKA linear functional, or linear operator from the vector space to the complex numbers\" corresponding to the ket vector |v>. Represented by a row vector whose components are the complex congugate of the components of |v>\n",
    "- Inner product: <v|w> is a complex number, the bra <v| times(matrix multiplication) |w>. The projection of v on w. Zero if v and w are orthogonal.\n",
    "    - $<v|w> = <w|v>^{*}$ Reversing the order gives the complex congugate\n",
    "    - Example |v> is $\\left(\\begin{array}{cc} a \\\\ b \\end{array}\\right)$. w is $\\left(\\begin{array}{cc} c \\\\ d \\end{array}\\right)$. <v|w> is $\\left(\\begin{array}{cc} a^{*} & b^{*} \\end{array}\\right)$  $\\left(\\begin{array}{cc} c \\\\ d \\end{array}\\right)$ = $a^{*}c + b^{*}d$\n",
    "- Norm (of a vector): <v|v> is a nonnegative real numer, the squared length of v. The norm of v, ||v||,  is the positive square root of <v|v>. A unit vector has norm equal one.\n",
    "- Modulus (of a complex number): |a+bi| is $\\sqrt{a^{2}+b^{2}}$\n",
    "- Normailized: $\\frac{|v>}{<v|v>}$ is normalized. The same direction as v, but length one.\n",
    "- Tensor product (outer product): |B>$\\otimes$|C>, often written as |B>|C> a linear map M, or matrix, where M[i][j] = B[i] * C[j] \n",
    "    - if kets are the same dimension, M is square, and the determinent of the outer product M is zero (easily checked for the examples below)\n",
    "    - example |0>|0> = $\\left(\\begin{array}{cc} 1 & 0 \\\\ 0 & 0 \\end{array}\\right)$. \n",
    "    - example: If |x> is a|0> + b|1>, equivalently $\\left(\\begin{array}{cc} a \\\\ b \\end{array}\\right)$  and |y> is c|0> + d|1>.\n",
    "    |x>$\\otimes$|y> is $\\left(\\begin{array}{cc} ac & ad \\\\ bc & bd \\end{array}\\right)$\n"
   ]
  },
  {
   "cell_type": "markdown",
   "id": "2304b6e6-fc54-4bee-a0ea-cf25f80ae5f0",
   "metadata": {},
   "source": [
    "# Qbit\n",
    "A Qbit in implemeted as a physical object in an isolated quantum state. This state is described by a unit vector in a two dimensional Hilbert space, $a|0> + b|1>$ where a and b are complex numbers and $|a|^2 + |b|^2 = 1$. The global phase of a Qbit can not be observed so we can take a as real. Vectors that are not normalized repesent the same quantum state. $a|0>$ and $|0>$ are the same state, for any complex number a. The quantum state can not be observed directly. "
   ]
  },
  {
   "cell_type": "markdown",
   "id": "900ce79b-5b54-4e87-b26c-625437959322",
   "metadata": {},
   "source": [
    "# Operators\n",
    "\n",
    "- Linear operator A: A is a linear transform. A(|v>) A applied to ket vector |v>, written A|v> is a ket vector. A  linear transform from a vector space to itself can be represented as a square matrix (assuming a given basis for the vector space). All operators in QC are linear operators with complex components. Because qbits are two dimensional, their tensor products will all be even dimension, or all operators with be square matrices of even dimension.\n",
    "    - $A^{*}$: complex conjugate of A, each component of A is replaces with its complex conjugate \n",
    "    - $A^{\\dagger}$ : Hermitian conjugate (also called adjoint). The transpose of the complex conjugate of A. $A^{\\dagger} = (A^{*})^{T}$\n",
    "        - $(AB)^{\\dagger} = B^{\\dagger}A^{\\dagger}$\n",
    "    - AB (matrix multiply) is also a linear operator. In general AB is not equal to BA. If AB equals BA, they \"commute\". The \"commutator\" is $AB-BA$\n",
    "        - (AB)|v> is the same as A(B|v) Operators can be combined into a single operator, or applied sequentially.\n",
    "    - The bra associated with A|v> is <v|$A^{\\dagger}$\n",
    "    - <v|A|w> is a complex number. The bra <v|A applied to |w> or the bra <v| multiplied by the ket A|w> (since operations are associative)\n",
    "        - <v|A|w> is the inner product of <v| with the vector A|w>\n",
    "\n",
    "- Identity operator I: ones on the the diagonal. I|v> = v. \n",
    "    - example: $\\left(\\begin{array}{cc} 1 & 0 & 0 & 0 \\\\ 0 & 1 & 0 & 0 \\\\ 0 & 0 & 1 & 0 \\\\ 0 & 0 & 0 & 1 \\end{array}\\right)$\n",
    "- Normal operator: $AA^{\\dagger} = A^{\\dagger}A$. It commutes with its Hermitian conjugate.\n",
    "- Unitary operator U: $UU^{\\dagger} = U^{\\dagger}U = I.$ |det(U)| = 1. $U^{\\dagger}$ is normal. $U^{-1} = U^{\\dagger}$ . Unitary operators are Normal. Columns (or rows) for an orthonormal set of vectors.\n",
    "    - Preserve inner products and norms. The inner product of |v> and |w> is the same as the inner product of U|v> and U|w>. $<v|w> = <v|U^{\\dagger}U|w> = <v|I|w>$  \n",
    "- Hermitian operator H: H is its own Hermitian Conjugate. $H^{\\dagger} = H$. Elements on the diagonal must be real. Hermitian operators are Normal.\n",
    "    - eigenvectors of Hermitian operators with different eigenvalues are orthogonal\n",
    "- Diagionizable operator: can be written with eigenvalues on the diagonals and eigenvectors as a basis. All normal operators are diagonizable, and all digonizable operators are normal\n",
    "    - Spectral Decomposition. Every Normal operator is diagonal with respect to some orthonormal basis\n",
    "- Positive operator: For any |v>, <v|A|v> is non-negative. All positive operators are Hermitian. Positive-definite: <v|A|v> is greater than zero when |v> is nonzero.\n",
    "   - For any operator A, $A^{\\dagger}A$ is positive."
   ]
  },
  {
   "cell_type": "markdown",
   "id": "63d73f46-1c23-4a36-883f-a04c386c510d",
   "metadata": {},
   "source": [
    "# Pauli Matrices\n",
    "\n",
    "These can be considered as operators on vectors in the |0> and |1> \"computational\" basis. They also form a basis of the one-qbit operators (a vector space of 2x2 matrices). They are diagonizable. They are Hermitian and unitary.\n",
    "\n",
    "- $\\sigma$<sub>0</sub> or I = $\\left(\\begin{array}{cc} 1 & 0 \\\\ 0 & 1 \\end{array}\\right)$  Identiy matrix. Identity operator.\n",
    "- $\\sigma$<sub>1</sub> or $\\sigma$<sub>x</sub> or X = $\\left(\\begin{array}{cc} 0 & 1 \\\\ 1 & 0 \\end{array}\\right)$\n",
    "- $\\sigma$<sub>2</sub> or $\\sigma$<sub>y</sub> or Y = $\\left(\\begin{array}{cc} 0 & -i \\\\ i & 0 \\end{array}\\right)$\n",
    "- $\\sigma$<sub>3</sub> or $\\sigma$<sub>z</sub> or Z = $\\left(\\begin{array}{cc} 1 & 0 \\\\ 0 & -1 \\end{array}\\right)$   Z is already diagonalized, with eigenvalues 1 and -1"
   ]
  },
  {
   "cell_type": "markdown",
   "id": "4db6e1d6-116f-4647-a806-ed309381d6ca",
   "metadata": {},
   "source": []
  },
  {
   "cell_type": "code",
   "execution_count": 2,
   "id": "ee17d30f-4622-4f94-b5c7-5649eab71ff4",
   "metadata": {
    "collapsed": true,
    "jupyter": {
     "outputs_hidden": true,
     "source_hidden": true
    },
    "tags": []
   },
   "outputs": [
    {
     "name": "stdout",
     "output_type": "stream",
     "text": [
      "Installing required pacakges: pip and numpy\n",
      "Requirement already satisfied: pip in c:\\users\\david\\appdata\\local\\programs\\python\\python37\\lib\\site-packages (21.1.1)\n",
      "Requirement already satisfied: numpy in c:\\users\\david\\appdata\\local\\programs\\python\\python37\\lib\\site-packages (1.20.3)\n",
      "\n",
      "[\n",
      "1.0\n",
      "3.0+1.0i\n",
      "]\n"
     ]
    }
   ],
   "source": [
    "print('Installing required pacakges: pip and numpy')\n",
    "# Install a pip package in the current Jupyter kernel\n",
    "import sys\n",
    "!{sys.executable} -m pip install --upgrade pip\n",
    "!{sys.executable} -m pip install numpy\n",
    "print()\n",
    "\n",
    "import numpy as np\n",
    "\n",
    "class ket:\n",
    "    def __init__(self, value):\n",
    "        ''' value is a tuple or column vector of real or complex numbers '''\n",
    "        self.value = np.array(value).astype(complex)\n",
    "    \n",
    "    def cstr(self, v):\n",
    "        ''' format a complex number '''\n",
    "        if isinstance(v, complex):\n",
    "            if v.imag == 0:\n",
    "                return str(v.real)\n",
    "            if v.real == 0:\n",
    "                return '{}i'.format(v.imag)\n",
    "            if v.imag > 0:\n",
    "                return '{}+{}i'.format(v.real, v.imag)\n",
    "            return '{}{}i'.format(v.real,v.imag)\n",
    "        else:\n",
    "            return str(v)  # a regular number\n",
    "        \n",
    "    def __str__(self):\n",
    "        ''' convert value to string '''\n",
    "        s = '[\\n'\n",
    "        for v in self.value:\n",
    "            s += self.cstr(v) + '\\n'\n",
    "        s += ']'\n",
    "        return s\n",
    "            \n",
    "k = ket((1, complex(3, 1)))\n",
    "print(k)\n"
   ]
  },
  {
   "cell_type": "markdown",
   "id": "792827e5-0aeb-4bee-a96d-e1d3364a12bb",
   "metadata": {
    "tags": []
   },
   "source": [
    "# Eigenvectors and Eigenvalues\n",
    "\n",
    "An eigenvector of a linear operator A on a vector space is a non-zero ket vector |v> such that\n",
    "A|v> = $\\lambda$|v>, where $\\lambda$ is a complex number known as the eigenvalue of A corresponding\n",
    "to |v>. The operator A scales the eigenvector by a scalar.\n",
    "\n",
    "- Finding Eigenvalues: \n",
    "    - A|v> - $\\lambda$|v> = 0\n",
    "    - A|v> - ($\\lambda$$I$)|v = 0   (multipy by the identity matrix to convert to an operator)\n",
    "    - (A - ($\\lambda$$I$))|v> = 0\n",
    "    - det(A - ($\\lambda$$I$)) = 0   (characterstic polynomial: for nonzero v, the determinant of the operator must be zero)\n",
    "        - $det \\left(\\begin{array}{cc} a & b \\\\ c & d \\end{array}\\right) = ad-bd$\n",
    "        - after solving this polynomial for the eigenvalues, they can can be substututed in the equation above to find the eigenvectors.\n",
    "        - multiplicity: there might be multiple identical roots of the polynomial.\n",
    "    - example: see https://lpsa.swarthmore.edu/MtrxVibe/EigMat/MatrixEigen.html\n",
    "- Two eigenvectors might have the same eigenvalue (with multplicity greater than one)\n",
    "    - the number of linearly independent eigenvectors is less than or equal to the multiplicity of the eigenvalue\n",
    "    - a digagonalizable matrix has linearly independent eigenvectors, equal to the multiplicity of the eigenvalues\n",
    "- The eigenspace of an eigenvalue is the space spanned by the eigenvector (or eigenvectors) associated with that eigenvalue\n",
    "    - if there is only one eigenvector V, the eigenspace is aV, where a is any complex number.\n",
    "    - all vectors in the eigenspace are eigenvectors of the corresponding eigenvalue.\n",
    "- Every operator has at least one eigenvalue\n",
    "- Eigenvalues of unitary matices have modulus 1. They can be represented as $e^{i\\theta}$ where $\\theta$ is real.\n",
    "- if an operator is both Hermitian and Unitary, it's eigenvalues at 1 and -1\n",
    "- Pauli Matrix Eigenvalues and Eigenvectors\n",
    "     - X: eigenvalues 1, -1. eigenvectors [1, 1] and [1, -1]\n",
    "     - Y: eigenvalues 1, -1. eigenvectors are [1, i] and [1, -i]\n",
    "     - Z: eigenvalues 1, -1. eigenvectors are [1, 0] and [0, 1]\n",
    "\n"
   ]
  },
  {
   "cell_type": "markdown",
   "id": "8ee9ea80-c5fb-45d8-9d61-9eb7708b05ef",
   "metadata": {},
   "source": [
    "# Tensor products\n"
   ]
  },
  {
   "cell_type": "markdown",
   "id": "c973a088-194d-42b6-8884-30031d3134d2",
   "metadata": {},
   "source": [
    "# Density Operators"
   ]
  },
  {
   "cell_type": "markdown",
   "id": "bfb17327-2840-4780-a40b-07cb19ceabe0",
   "metadata": {},
   "source": [
    "# Entanglement"
   ]
  },
  {
   "cell_type": "markdown",
   "id": "77a6e75c-d134-4d9b-88f2-cac89e964e42",
   "metadata": {},
   "source": [
    "# EPR Paradox"
   ]
  },
  {
   "cell_type": "markdown",
   "id": "5067fa98-4683-47a6-9b92-f1b360eb2faa",
   "metadata": {},
   "source": [
    "# Quantum teleportation"
   ]
  },
  {
   "cell_type": "markdown",
   "id": "ff8a24c7-648b-4fad-8aea-1f3560f6b501",
   "metadata": {},
   "source": [
    "# Shor's Quantum Fourier Transform Algorithm\n",
    "The quantum Fourier transform can be used to get exponential speedup on factoring and discrete logarithm problem."
   ]
  },
  {
   "cell_type": "markdown",
   "id": "1244441a-723a-4e0f-9368-efdc8b0b8b77",
   "metadata": {},
   "source": [
    "# Grover's Algorithm\n",
    "This algorithm enables quadratic speedup on many search and optimiation problems."
   ]
  },
  {
   "cell_type": "markdown",
   "id": "19c96466-50d1-4190-83a8-907c3942b3b6",
   "metadata": {},
   "source": [
    "# Single Qbit Operations (Quantum gates)\n",
    "Quantum gates are Unitary Operators  \n",
    "Pauli X, Y, Z gates  \n",
    "X (or NOT) = $\\left(\\begin{array}{cc} 0 & 1 \\\\ 1 & 0 \\end{array}\\right)$ is a rotation by $\\pi$ around the X axis on the bloch spere. It maps |0> to |1> and |1> to |0>  \n",
    "SX (or $\\sqrt{X}$)= $1/2\\left(\\begin{array}{cc} 1+i & 1-i \\\\ 1-1 & 1+i \\end{array}\\right)$ is a rotation by $\\pi$  is a rotation by $\\pi/2$ around the X axis on the bloch spere. The square root of the X gate (at IBM).  \n",
    "RZ = $\\left(\\begin{array}{cc} 1 & 0 \\\\ 0 & e^{i\\theta} \\end{array}\\right)$ is a rotation by $\\theta$ (real) radians around the Z axis on the bloch sphere (at IBM).  \n",
    "H: Hadamard Gate: $1/\\sqrt{2} \\left(\\begin{array}{cc} 1 & 1 \\\\ 1 & -1 \\end{array}\\right)$ or $(X + Z)/\\sqrt{2}$ is a rotation around the axis between X and Z. Maps |0> to $(|0> + |1>)/\\sqrt{2}$ commonly called |+>  \n",
    "S: phase gate:  $\\left(\\begin{array}{cc} 1 & 0 \\\\ 0 & -i \\end{array}\\right)$  \n",
    "T:  $\\left(\\begin{array}{cc} 1 & 0 \\\\ 0 & exp(i\\pi/8) \\end{array}\\right)$ Rotation by $\\pi/8$ around the Z axis\n",
    "CX: CNOT, or controlled NOT gate: $\\left(\\begin{array}{cc} 1 & 0 & 0 \\\\ 0 & 0 & 1 \\\\ 0 & 1 & 0\\end{array}\\right)$ Similar to a classical xor gate. (a, b) -> (a, a xor b)  \n",
    "CC: Toffoli gate: $\\left(\\begin{array}{cc} \n",
    "  1 & 0 & 0 & 0 & 0 & 0 & 0 & 0 \\\\  0 & 1 & 0 & 0 & 0 & 0 & 0 & 0 \\\\\n",
    "  0 & 0 & 1 & 0 & 0 & 0 & 0 & 0 \\\\  0 & 0 & 0 & 1 & 0 & 0 & 0 & 0 \\\\\n",
    "  0 & 0 & 0 & 0 & 1 & 0 & 0 & 0 \\\\  0 & 0 & 0 & 0 & 0 & 1 & 0 & 0 \\\\\n",
    "  0 & 0 & 0 & 0 & 0 & 0 & 0 & 1 \\\\  0 & 0 & 0 & 0 & 0 & 0 & 1 & 0 \n",
    "  \\end{array}\\right)$  (a, b, c) -> (a, b, (a and b) xor c)\n",
    "XYX = -Y  \n",
    "HXH = Z  \n",
    "HYH = -Y  \n",
    "HZH = X  \n",
    "\n",
    "The IBM Quiskit basis gates are CX, RZ, SX and X gates. They have a transpiler from other gates. "
   ]
  },
  {
   "cell_type": "code",
   "execution_count": null,
   "id": "e62e9d19-75fd-407b-b034-aee62d1a7462",
   "metadata": {},
   "outputs": [],
   "source": []
  }
 ],
 "metadata": {
  "kernelspec": {
   "display_name": "Python 3",
   "language": "python",
   "name": "python3"
  },
  "language_info": {
   "codemirror_mode": {
    "name": "ipython",
    "version": 3
   },
   "file_extension": ".py",
   "mimetype": "text/x-python",
   "name": "python",
   "nbconvert_exporter": "python",
   "pygments_lexer": "ipython3",
   "version": "3.7.9"
  }
 },
 "nbformat": 4,
 "nbformat_minor": 5
}
