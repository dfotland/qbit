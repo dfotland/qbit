{
 "cells": [
  {
   "cell_type": "markdown",
   "id": "80d45cf1-2b17-44a7-8b00-807bd30d5661",
   "metadata": {},
   "source": [
    "# Deutsch's Algorithm"
   ]
  },
  {
   "cell_type": "markdown",
   "id": "bc1bcedd-18cc-4e16-ac39-99f07a2c044c",
   "metadata": {},
   "source": [
    "### Reference Barnett 7.2. Nielsen 1.4.3."
   ]
  },
  {
   "cell_type": "code",
   "execution_count": 1,
   "id": "21409eaa-ed89-46f5-86a1-eb6928ae1b89",
   "metadata": {
    "jupyter": {
     "source_hidden": true
    },
    "tags": []
   },
   "outputs": [],
   "source": [
    "# imports for quiskit\n",
    "import numpy as np\n",
    "from math import pi\n",
    "import matplotlib.pyplot as plt\n",
    "from qiskit import QuantumCircuit, transpile, QuantumRegister\n",
    "from qiskit.circuit import Gate\n",
    "from qiskit.providers.aer import QasmSimulator\n",
    "from qiskit.visualization import plot_histogram\n",
    "\n"
   ]
  },
  {
   "cell_type": "markdown",
   "id": "36dae085-32cf-45a7-af16-7ddad1042257",
   "metadata": {},
   "source": [
    "**Classical version of the problem:** Given an unknown function of a single bit, determine if the function is balanced or unbalanced. The balanced functions are f(x) = x and f(x) = not(x). The unbalanced functions are f(x) = 0 and f(x) = 1. Answering this question requires evaluating f(x) twice, with inputs zero and one."
   ]
  },
  {
   "cell_type": "markdown",
   "id": "f84f2898-ff7f-4709-90e8-afe2651e3d6d",
   "metadata": {},
   "source": [
    "**Quantum version of the functions:** The unbalanced functions are not unitary, so the quantum f(x) requires an ancillary input qbit and a second output. I will use the standard arranement as described in Barnett 7.2. This is a two qbit circuit, with the input x |0> or |1> on the upper qbit, and the lower ancillary qbit |b> assumed to be set to |0>. The lower output qbit will have |b$\\oplus$f(x)>. "
   ]
  },
  {
   "cell_type": "code",
   "execution_count": 2,
   "id": "fd1e32c1-7430-4482-8ebb-98cadf9be810",
   "metadata": {
    "jupyter": {
     "source_hidden": true
    },
    "tags": []
   },
   "outputs": [
    {
     "data": {
      "image/png": "[encoded data removed]",
      "text/plain": [
       "<Figure size 307.295x144.48 with 1 Axes>"
      ]
     },
     "execution_count": 2,
     "metadata": {},
     "output_type": "execute_result"
    }
   ],
   "source": [
    "fngate = Gate(name='quantum-fn', num_qubits=2, params=[])\n",
    "inputbit = QuantumRegister(1, 'input')\n",
    "ancil = QuantumRegister(1, 'ancil')\n",
    "qFn = QuantumCircuit(inputbit, ancil, name='quantum-fn')\n",
    "qFn.append(fngate, [inputbit, ancil])\n",
    "qFn.draw(output='mpl')"
   ]
  },
  {
   "cell_type": "markdown",
   "id": "43a0b745-632c-4c42-9814-b7b52264c42f",
   "metadata": {
    "tags": []
   },
   "source": [
    "Deutch's solution to this problem is to use the circuit below. The quantum function gives the expected results in the computational basis, with the lower qbit in the |0> state. Passing two different superposed states as inputs causes a measurable phase shift in the upper qbit when the quantum function contains a CNOT gate."
   ]
  },
  {
   "cell_type": "code",
   "execution_count": 3,
   "id": "220e6629-aee6-445a-bfae-cf2f68e6d9f1",
   "metadata": {
    "jupyter": {
     "source_hidden": true
    },
    "tags": []
   },
   "outputs": [
    {
     "data": {
      "image/png": "[encoded data removed]",
      "text/plain": [
       "<Figure size 507.852x204.68 with 1 Axes>"
      ]
     },
     "execution_count": 3,
     "metadata": {},
     "output_type": "execute_result"
    }
   ],
   "source": [
    "# Make a deutsch circuit for an oracle\n",
    "def make_deutsch(oracle):\n",
    "    ''' embed an oracle in the Deutsch algorithm circuit'''\n",
    "    deutsch = QuantumCircuit(2, 1)\n",
    "    deutsch.x(1)\n",
    "    deutsch.h(0)\n",
    "    deutsch.h(1)\n",
    "    deutsch.append(oracle, [0, 1])\n",
    "    deutsch.h(0)\n",
    "    deutsch.measure([0], [0])\n",
    "    return deutsch\n",
    "\n",
    "deutsch = make_deutsch(qFn)\n",
    "deutsch.draw(output='mpl')"
   ]
  },
  {
   "cell_type": "raw",
   "id": "840eba6e-6a2c-48f2-aec8-6874d50d33f8",
   "metadata": {},
   "source": [
    "Here are the four possible functions. Notice that the balanced functions all contain a CNOT, and that the unbalanced functions all pass the upper input unchanged to the output. Deutsch's algorithm measures the upper qbit, so the unbalanced function outputs are clearly |0>. The key insight for this algorithm is how the presence of of CNOT changes the upper qbit from a |0> to a |1>. Note that in Qiskit, the NOT gate is labelled with an 'X'."
   ]
  },
  {
   "cell_type": "code",
   "execution_count": 4,
   "id": "5fa7ac00-c2eb-44a9-97c1-e88042949d8c",
   "metadata": {
    "jupyter": {
     "source_hidden": true
    },
    "tags": []
   },
   "outputs": [
    {
     "name": "stdout",
     "output_type": "stream",
     "text": [
      "      Balanced: f(x) = not(x)\n"
     ]
    },
    {
     "data": {
      "image/png": "[encoded data removed]",
      "text/plain": [
       "<Figure size 206.852x144.48 with 1 Axes>"
      ]
     },
     "execution_count": 4,
     "metadata": {},
     "output_type": "execute_result"
    }
   ],
   "source": [
    "# f(x) = not(x) \n",
    "fnot = QuantumCircuit(2, name='fn-not')\n",
    "fnot.cx(0, 1)\n",
    "fnot.x(1)\n",
    "print('      Balanced: f(x) = not(x)')\n",
    "fnot.draw(output='mpl')"
   ]
  },
  {
   "cell_type": "code",
   "execution_count": 5,
   "id": "23056fed-382f-4e09-ae24-5519bc97619f",
   "metadata": {
    "jupyter": {
     "source_hidden": true
    },
    "tags": []
   },
   "outputs": [
    {
     "name": "stdout",
     "output_type": "stream",
     "text": [
      "      Balanced: f(x) = x\n"
     ]
    },
    {
     "data": {
      "image/png": "[encoded data removed]",
      "text/plain": [
       "<Figure size 146.652x144.48 with 1 Axes>"
      ]
     },
     "execution_count": 5,
     "metadata": {},
     "output_type": "execute_result"
    }
   ],
   "source": [
    "# f(x) = x\n",
    "fid = QuantumCircuit(2, name='fn-ident')\n",
    "fid.cx(0, 1)\n",
    "print('      Balanced: f(x) = x')\n",
    "fid.draw(output='mpl')"
   ]
  },
  {
   "cell_type": "code",
   "execution_count": 6,
   "id": "926ec747-5a51-4783-b4ec-f5393669e08f",
   "metadata": {
    "jupyter": {
     "source_hidden": true
    },
    "tags": []
   },
   "outputs": [
    {
     "name": "stdout",
     "output_type": "stream",
     "text": [
      "      Unbalanced: f(x) = 0\n"
     ]
    },
    {
     "data": {
      "image/png": "[encoded data removed]",
      "text/plain": [
       "<Figure size 146.652x144.48 with 1 Axes>"
      ]
     },
     "execution_count": 6,
     "metadata": {},
     "output_type": "execute_result"
    }
   ],
   "source": [
    "# f(x) = 0\n",
    "fzero = QuantumCircuit(2, name='fn-zero')\n",
    "fzero.i(1)\n",
    "print('      Unbalanced: f(x) = 0')\n",
    "fzero.draw(output='mpl')"
   ]
  },
  {
   "cell_type": "code",
   "execution_count": 7,
   "id": "efd13858-b776-4c65-9e2e-38470d9ea00d",
   "metadata": {
    "jupyter": {
     "source_hidden": true
    },
    "tags": []
   },
   "outputs": [
    {
     "name": "stdout",
     "output_type": "stream",
     "text": [
      "      Unbalanced: f(x) = 1\n"
     ]
    },
    {
     "data": {
      "image/png": "[encoded data removed]",
      "text/plain": [
       "<Figure size 146.652x144.48 with 1 Axes>"
      ]
     },
     "execution_count": 7,
     "metadata": {},
     "output_type": "execute_result"
    }
   ],
   "source": [
    "# f(x) = 1\n",
    "fone = QuantumCircuit(2, name = 'fn-one')\n",
    "fone.x(1)\n",
    "print('      Unbalanced: f(x) = 1')\n",
    "fone.draw(output='mpl')"
   ]
  },
  {
   "cell_type": "markdown",
   "id": "1e148b26-da2c-4e7e-900f-3d9aa78362bc",
   "metadata": {},
   "source": [
    "The Deutsch algorithm makes one run through the unknown quantum_fn circuit. Here are the results, which should be '1' if balanced and '0' if unbalanaced. Since the unbalanced cases pass the upper qbit to the output unchanged, it is obvious that the result of the measurement for unbalanced functions is zero."
   ]
  },
  {
   "cell_type": "code",
   "execution_count": 8,
   "id": "7ea1a02e-f51d-4e31-8436-fa28650a963c",
   "metadata": {
    "jupyter": {
     "source_hidden": true
    },
    "tags": []
   },
   "outputs": [
    {
     "name": "stdout",
     "output_type": "stream",
     "text": [
      "      Balanced f(x) = Not(x). 100 run results: {'1': 100}\n"
     ]
    },
    {
     "data": {
      "image/png": "[encoded data removed]",
      "text/plain": [
       "<Figure size 447.652x204.68 with 1 Axes>"
      ]
     },
     "execution_count": 8,
     "metadata": {},
     "output_type": "execute_result"
    }
   ],
   "source": [
    "deutsch = make_deutsch(fnot)\n",
    "simulator = QasmSimulator()\n",
    "compiled_circuit = transpile(deutsch, simulator)\n",
    "job = simulator.run(compiled_circuit, shots=100)\n",
    "result = job.result()\n",
    "counts = result.get_counts(deutsch)\n",
    "print('      Balanced f(x) = Not(x). 100 run results: ' + str(counts))\n",
    "deutsch.draw(output='mpl')"
   ]
  },
  {
   "cell_type": "code",
   "execution_count": 9,
   "id": "858ab0ff-79bb-4dce-8da4-01bfcfd53487",
   "metadata": {
    "jupyter": {
     "source_hidden": true
    },
    "tags": []
   },
   "outputs": [
    {
     "name": "stdout",
     "output_type": "stream",
     "text": [
      "      Balanced f(x) = x. 100 run results: {'1': 100}\n"
     ]
    },
    {
     "data": {
      "image/png": "[encoded data removed]",
      "text/plain": [
       "<Figure size 447.652x204.68 with 1 Axes>"
      ]
     },
     "execution_count": 9,
     "metadata": {},
     "output_type": "execute_result"
    }
   ],
   "source": [
    "deutsch = make_deutsch(fid)\n",
    "simulator = QasmSimulator()\n",
    "compiled_circuit = transpile(deutsch, simulator)\n",
    "job = simulator.run(compiled_circuit, shots=100)\n",
    "result = job.result()\n",
    "counts = result.get_counts(deutsch)\n",
    "print('      Balanced f(x) = x. 100 run results: ' + str(counts))\n",
    "deutsch.draw(output='mpl')"
   ]
  },
  {
   "cell_type": "code",
   "execution_count": 10,
   "id": "303adea8-d9c2-4a02-8fe9-9b598ac2f502",
   "metadata": {
    "jupyter": {
     "source_hidden": true
    },
    "tags": []
   },
   "outputs": [
    {
     "name": "stdout",
     "output_type": "stream",
     "text": [
      "      Unbalanced f(x) = 0. 100 run results: {'0': 100}\n"
     ]
    },
    {
     "data": {
      "image/png": "[encoded data removed]",
      "text/plain": [
       "<Figure size 447.652x204.68 with 1 Axes>"
      ]
     },
     "execution_count": 10,
     "metadata": {},
     "output_type": "execute_result"
    }
   ],
   "source": [
    "deutsch = make_deutsch(fzero)\n",
    "simulator = QasmSimulator()\n",
    "compiled_circuit = transpile(deutsch, simulator)\n",
    "job = simulator.run(compiled_circuit, shots=100)\n",
    "result = job.result()\n",
    "counts = result.get_counts(deutsch)\n",
    "print('      Unbalanced f(x) = 0. 100 run results: ' + str(counts))\n",
    "deutsch.draw(output='mpl')"
   ]
  },
  {
   "cell_type": "code",
   "execution_count": 11,
   "id": "ecc9c4bb-d2c5-42f9-a097-70828965ef6c",
   "metadata": {
    "jupyter": {
     "source_hidden": true
    },
    "tags": []
   },
   "outputs": [
    {
     "name": "stdout",
     "output_type": "stream",
     "text": [
      "      Unbalanced f(x) = 1. 100 run results: {'0': 100}\n"
     ]
    },
    {
     "data": {
      "image/png": "[encoded data removed]",
      "text/plain": [
       "<Figure size 447.652x204.68 with 1 Axes>"
      ]
     },
     "execution_count": 11,
     "metadata": {},
     "output_type": "execute_result"
    }
   ],
   "source": [
    "deutsch = make_deutsch(fone)\n",
    "simulator = QasmSimulator()\n",
    "compiled_circuit = transpile(deutsch, simulator)\n",
    "job = simulator.run(compiled_circuit, shots=100)\n",
    "result = job.result()\n",
    "counts = result.get_counts(deutsch)\n",
    "print('      Unbalanced f(x) = 1. 100 run results: ' + str(counts))\n",
    "deutsch.draw(output='mpl')"
   ]
  },
  {
   "cell_type": "markdown",
   "id": "84d90108-c37d-46e1-bf3f-1cfca4252d5f",
   "metadata": {
    "tags": []
   },
   "source": [
    "The key to this algorithm is understanding how the upper qbit is set to |1> in the balanced states that contain a CNOT gate. I found three explanations. First is the \"eqivalent circuits.\" The Qiskit documentation and several papers on equivala circuits say the surrouding a CNOT gate with hadamard gates rverses the direction of the CNOT. The next two circuits are identical, so in the Deutsch circuit above the |1> on the lower input to the function inverts the upper output."
   ]
  },
  {
   "cell_type": "code",
   "execution_count": 12,
   "id": "5d55e6a2-cdc9-43a5-ae12-463d9028d918",
   "metadata": {
    "jupyter": {
     "source_hidden": true
    },
    "tags": []
   },
   "outputs": [
    {
     "data": {
      "image/png": "[encoded data removed]",
      "text/plain": [
       "<Figure size 272.964x144.48 with 1 Axes>"
      ]
     },
     "execution_count": 12,
     "metadata": {},
     "output_type": "execute_result"
    }
   ],
   "source": [
    "qr = QuantumRegister(2, 'in')\n",
    "qc = QuantumCircuit(qr)\n",
    "qc.h(0)\n",
    "qc.h(1)\n",
    "qc.cx(0, 1)\n",
    "qc.h(0)\n",
    "qc.h(1)\n",
    "qc.draw(output='mpl')"
   ]
  },
  {
   "cell_type": "code",
   "execution_count": 13,
   "id": "29831ddd-c328-4b01-8bf7-f5677dd14799",
   "metadata": {
    "jupyter": {
     "source_hidden": true
    },
    "tags": []
   },
   "outputs": [
    {
     "data": {
      "image/png": "[encoded data removed]",
      "text/plain": [
       "<Figure size 152.564x144.48 with 1 Axes>"
      ]
     },
     "execution_count": 13,
     "metadata": {},
     "output_type": "execute_result"
    }
   ],
   "source": [
    "qr = QuantumRegister(2, 'in')\n",
    "qc = QuantumCircuit(qr)\n",
    "qc.cx(1, 0)\n",
    "qc.draw(output='mpl')"
   ]
  },
  {
   "cell_type": "markdown",
   "id": "9a06f1ad-1793-470d-ab64-bca57e09871d",
   "metadata": {},
   "source": [
    "The second path to understanding is looking at the linear algebra of the circuit in the computational basis. (I leave out the normalization constants in the following for simplicity). The upper input is |0>, or  $\\left(\\begin{array}{cc} 1 \\\\ 0 \\end{array}\\right)$. The Hadamard operator is  $\\left(\\begin{array}{cc} 1 & 1 \\\\ 1 & -1 \\end{array}\\right)$ *  $\\left(\\begin{array}{cc} 1 \\\\ 0 \\end{array}\\right)$ =  $\\left(\\begin{array}{cc} 1 \\\\ 1 \\end{array}\\right)$. The lower input is $\\left(\\begin{array}{cc} 1 & 1 \\\\ 1 & -1 \\end{array}\\right)$ *  $\\left(\\begin{array}{cc} 0 \\\\ 1 \\end{array}\\right)$ =  $\\left(\\begin{array}{cc} 1 \\\\ -1 \\end{array}\\right)$."
   ]
  },
  {
   "cell_type": "markdown",
   "id": "9ed29c95-48cc-4494-8c6f-7503820ca74b",
   "metadata": {},
   "source": [
    "The two qbit function input is $\\left(\\begin{array}{cc} 1 \\\\ 1 \\end{array}\\right) \\otimes \\left(\\begin{array}{cc} 1 \\\\ -1 \\end{array}\\right)$. Recall that $\\left(\\begin{array}{cc} a \\\\ b \\end{array}\\right) \\otimes \\left(\\begin{array}{cc} c \\\\ d \\end{array}\\right)$ =  $\\left(\\begin{array}{cc} ac \\\\ ad \\\\ bc \\\\ bd \\end{array}\\right)$. The CNOT output is$ \\left(\\begin{array}{cc} 1 & 0 & 0 & 0 \\\\ 0 & 1 & 0 & 0 \\\\ 0 & 0 & 0 & 1 \\\\ 0 & 0 & 1 & 0\\end{array}\\right)$ * $\\left(\\begin{array}{cc} 1 \\\\ -1 \\\\ 1 \\\\ -1 \\end{array}\\right)$ = $\\left(\\begin{array}{cc} 1 \\\\ -1 \\\\ -1 \\\\ 1 \\end{array}\\right)$"
   ]
  },
  {
   "cell_type": "markdown",
   "id": "0ba5e60f-f271-4b39-82e4-bc5619ef2750",
   "metadata": {},
   "source": [
    "Now we need to factor the output of the cnot gate to get the individual output qbits. The results is $\\left(\\begin{array}{cc} 1 \\\\ -1 \\end{array}\\right) \\otimes \\left(\\begin{array}{cc} 1 \\\\ -1 \\end{array}\\right)$. Aplying the hardard gate to the upper qbit gives $\\left(\\begin{array}{cc} 1 & 1 \\\\ 1 & -1 \\end{array}\\right)$ *  $\\left(\\begin{array}{cc} 1 \\\\ -1 \\end{array}\\right)$ =  $\\left(\\begin{array}{cc} 0 \\\\ 1 \\end{array}\\right)$, which is |1>."
   ]
  },
  {
   "cell_type": "markdown",
   "id": "4737d46d-51a1-41fb-b2fa-d96d36015887",
   "metadata": {},
   "source": [
    "The final path to understanding Deutsch is by following the equations in Barnett 7.18 to 7.23 (or Nielsen 1.42 to 1.45). Both books say that the first step is obvious, but I don't see it."
   ]
  },
  {
   "cell_type": "code",
   "execution_count": null,
   "id": "bf4dbaea-ae56-4879-8658-a72fdb1dca40",
   "metadata": {},
   "outputs": [],
   "source": []
  }
 ],
 "metadata": {
  "kernelspec": {
   "display_name": "Python 3",
   "language": "python",
   "name": "python3"
  },
  "language_info": {
   "codemirror_mode": {
    "name": "ipython",
    "version": 3
   },
   "file_extension": ".py",
   "mimetype": "text/x-python",
   "name": "python",
   "nbconvert_exporter": "python",
   "pygments_lexer": "ipython3",
   "version": "3.7.1"
  }
 },
 "nbformat": 4,
 "nbformat_minor": 5
}
