{
 "cells": [
  {
   "cell_type": "markdown",
   "id": "80d45cf1-2b17-44a7-8b00-807bd30d5661",
   "metadata": {},
   "source": [
    "# Deutsch's Algorithm"
   ]
  },
  {
   "cell_type": "markdown",
   "id": "bc1bcedd-18cc-4e16-ac39-99f07a2c044c",
   "metadata": {},
   "source": [
    "### Reference Barnett 7.2. Nielsen 1.4.3."
   ]
  },
  {
   "cell_type": "markdown",
   "id": "36dae085-32cf-45a7-af16-7ddad1042257",
   "metadata": {},
   "source": [
    "**Classical version:** Given an unknown function of a single bit, determine if the function is balanced or unbalanced. The balanced functions are f(x) = x and f(x) = not(x). The unbalanced functions are f(x) = 0 and f(x) = 1. Answering this question requires evaluating f(x) twice, with inputs zero and one."
   ]
  },
  {
   "cell_type": "markdown",
   "id": "f84f2898-ff7f-4709-90e8-afe2651e3d6d",
   "metadata": {},
   "source": [
    "**Quantum version:** The unbalanced functions are not unitary, so the quantum f(x) requires and ancillary input qbit and a second output."
   ]
  },
  {
   "cell_type": "code",
   "execution_count": 5,
   "id": "21409eaa-ed89-46f5-86a1-eb6928ae1b89",
   "metadata": {
    "tags": []
   },
   "outputs": [],
   "source": [
    "# imports for quiskit\n",
    "import numpy as np\n",
    "from math import pi\n",
    "from qiskit import QuantumCircuit, transpile\n",
    "from qiskit.circuit import Gate\n",
    "from qiskit.providers.aer import QasmSimulator\n",
    "from qiskit.visualization import plot_histogram\n",
    "\n"
   ]
  },
  {
   "cell_type": "markdown",
   "id": "d9a44fda-8b59-4a30-97c0-80805029cd95",
   "metadata": {},
   "source": [
    "The next cell creates the four oracle circuits. The upper wire has the input x which is passed unchanged to the output. The lower wire, when given |0> outputs f(x)."
   ]
  },
  {
   "cell_type": "code",
   "execution_count": 13,
   "id": "78112784-7c51-4013-a57d-22fde41797ab",
   "metadata": {
    "tags": []
   },
   "outputs": [],
   "source": [
    "def make_oracles():\n",
    "    ''' create the four quantum circuits'''\n",
    "    # f(x) = not(x) \n",
    "    fnot = QuantumCircuit(2, name='fn-not')\n",
    "    fnot.cx(0, 1)\n",
    "    fnot.x(1)\n",
    "\n",
    "    # f(x) = x\n",
    "    fid = QuantumCircuit(2, name='fn-ident')\n",
    "    fid.cx(0, 1)\n",
    "\n",
    "    # f(x) = 0\n",
    "    fzero = QuantumCircuit(2, name='fn-zero')\n",
    "    fzero.i(1)\n",
    "\n",
    "    # f(x) = 1\n",
    "    fone = QuantumCircuit(2, name = 'fn-one')\n",
    "    fone.x(1)\n",
    "    \n",
    "    return [fnot, fid, fzero, fone]\n"
   ]
  },
  {
   "cell_type": "code",
   "execution_count": 14,
   "id": "17352dce-eb45-4f23-88f9-4e3cfc1cd306",
   "metadata": {},
   "outputs": [],
   "source": [
    "def make_deutsch(oracle):\n",
    "    ''' embed the oracle in the Deutsch algorithm circuit'''\n",
    "    deutsch = QuantumCircuit(2, 1)\n",
    "    deutsch.x(1)\n",
    "    deutsch.h(0)\n",
    "    deutsch.h(1)\n",
    "    deutsch.append(oracle.to_instruction(), [0, 1])\n",
    "    deutsch.h(0)\n",
    "    deutsch.measure([0], [0])\n",
    "    return deutsch\n",
    "    "
   ]
  },
  {
   "cell_type": "code",
   "execution_count": 19,
   "id": "594be1c7-aa24-4e75-949b-98aadd6f134e",
   "metadata": {},
   "outputs": [
    {
     "name": "stderr",
     "output_type": "stream",
     "text": [
      "Simulation failed and returned the following error message:\n",
      "ERROR:  [Experiment 0] Circuit contains invalid instructions {\"gates\": {fn-not}} for \"density_matrix\" method\n"
     ]
    },
    {
     "name": "stdout",
     "output_type": "stream",
     "text": [
      "\n",
      "Deutsch's algorithm run on each oracle\n",
      "     ┌───┐     ┌─────────┐┌───┐┌─┐\n",
      "q_0: ┤ H ├─────┤0        ├┤ H ├┤M├\n",
      "     ├───┤┌───┐│  fn-not │└───┘└╥┘\n",
      "q_1: ┤ X ├┤ H ├┤1        ├──────╫─\n",
      "     └───┘└───┘└─────────┘      ║ \n",
      "c: 1/═══════════════════════════╩═\n",
      "                                0 \n"
     ]
    },
    {
     "ename": "QiskitError",
     "evalue": "'Data for experiment \"circuit-270\" could not be found.'",
     "output_type": "error",
     "traceback": [
      "\u001b[1;31m---------------------------------------------------------------------------\u001b[0m",
      "\u001b[1;31mQiskitError\u001b[0m                               Traceback (most recent call last)",
      "\u001b[1;32m<ipython-input-19-8728b8b46a7c>\u001b[0m in \u001b[0;36m<module>\u001b[1;34m\u001b[0m\n\u001b[0;32m     25\u001b[0m     \u001b[0mcompiled_circuit\u001b[0m \u001b[1;33m=\u001b[0m \u001b[0mtranspile\u001b[0m\u001b[1;33m(\u001b[0m\u001b[0mdeutsch\u001b[0m\u001b[1;33m,\u001b[0m \u001b[0msimulator\u001b[0m\u001b[1;33m)\u001b[0m\u001b[1;33m\u001b[0m\u001b[1;33m\u001b[0m\u001b[0m\n\u001b[0;32m     26\u001b[0m     \u001b[0mjob\u001b[0m \u001b[1;33m=\u001b[0m \u001b[0msimulator\u001b[0m\u001b[1;33m.\u001b[0m\u001b[0mrun\u001b[0m\u001b[1;33m(\u001b[0m\u001b[0mdeutsch\u001b[0m\u001b[1;33m,\u001b[0m \u001b[0mshots\u001b[0m\u001b[1;33m=\u001b[0m\u001b[1;36m100\u001b[0m\u001b[1;33m)\u001b[0m\u001b[1;33m\u001b[0m\u001b[1;33m\u001b[0m\u001b[0m\n\u001b[1;32m---> 27\u001b[1;33m     \u001b[0mcounts\u001b[0m \u001b[1;33m=\u001b[0m \u001b[0mresult\u001b[0m\u001b[1;33m.\u001b[0m\u001b[0mget_counts\u001b[0m\u001b[1;33m(\u001b[0m\u001b[0mdeutsch\u001b[0m\u001b[1;33m)\u001b[0m\u001b[1;33m\u001b[0m\u001b[1;33m\u001b[0m\u001b[0m\n\u001b[0m\u001b[0;32m     28\u001b[0m     \u001b[0mprint\u001b[0m\u001b[1;33m(\u001b[0m\u001b[1;34m\"\\nTotal counts are:\"\u001b[0m\u001b[1;33m,\u001b[0m \u001b[0mcounts\u001b[0m\u001b[1;33m)\u001b[0m\u001b[1;33m\u001b[0m\u001b[1;33m\u001b[0m\u001b[0m\n\u001b[0;32m     29\u001b[0m     \u001b[0mprint\u001b[0m\u001b[1;33m(\u001b[0m\u001b[1;33m)\u001b[0m\u001b[1;33m\u001b[0m\u001b[1;33m\u001b[0m\u001b[0m\n",
      "\u001b[1;32mc:\\users\\david\\githubrepos\\qbit\\env\\lib\\site-packages\\qiskit\\result\\result.py\u001b[0m in \u001b[0;36mget_counts\u001b[1;34m(self, experiment)\u001b[0m\n\u001b[0;32m    261\u001b[0m         \u001b[0mdict_list\u001b[0m \u001b[1;33m=\u001b[0m \u001b[1;33m[\u001b[0m\u001b[1;33m]\u001b[0m\u001b[1;33m\u001b[0m\u001b[1;33m\u001b[0m\u001b[0m\n\u001b[0;32m    262\u001b[0m         \u001b[1;32mfor\u001b[0m \u001b[0mkey\u001b[0m \u001b[1;32min\u001b[0m \u001b[0mexp_keys\u001b[0m\u001b[1;33m:\u001b[0m\u001b[1;33m\u001b[0m\u001b[1;33m\u001b[0m\u001b[0m\n\u001b[1;32m--> 263\u001b[1;33m             \u001b[0mexp\u001b[0m \u001b[1;33m=\u001b[0m \u001b[0mself\u001b[0m\u001b[1;33m.\u001b[0m\u001b[0m_get_experiment\u001b[0m\u001b[1;33m(\u001b[0m\u001b[0mkey\u001b[0m\u001b[1;33m)\u001b[0m\u001b[1;33m\u001b[0m\u001b[1;33m\u001b[0m\u001b[0m\n\u001b[0m\u001b[0;32m    264\u001b[0m             \u001b[1;32mtry\u001b[0m\u001b[1;33m:\u001b[0m\u001b[1;33m\u001b[0m\u001b[1;33m\u001b[0m\u001b[0m\n\u001b[0;32m    265\u001b[0m                 \u001b[0mheader\u001b[0m \u001b[1;33m=\u001b[0m \u001b[0mexp\u001b[0m\u001b[1;33m.\u001b[0m\u001b[0mheader\u001b[0m\u001b[1;33m.\u001b[0m\u001b[0mto_dict\u001b[0m\u001b[1;33m(\u001b[0m\u001b[1;33m)\u001b[0m\u001b[1;33m\u001b[0m\u001b[1;33m\u001b[0m\u001b[0m\n",
      "\u001b[1;32mc:\\users\\david\\githubrepos\\qbit\\env\\lib\\site-packages\\qiskit\\result\\result.py\u001b[0m in \u001b[0;36m_get_experiment\u001b[1;34m(self, key)\u001b[0m\n\u001b[0;32m    369\u001b[0m             \u001b[1;32mif\u001b[0m \u001b[0mlen\u001b[0m\u001b[1;33m(\u001b[0m\u001b[0mexp\u001b[0m\u001b[1;33m)\u001b[0m \u001b[1;33m==\u001b[0m \u001b[1;36m0\u001b[0m\u001b[1;33m:\u001b[0m\u001b[1;33m\u001b[0m\u001b[1;33m\u001b[0m\u001b[0m\n\u001b[0;32m    370\u001b[0m                 raise QiskitError('Data for experiment \"%s\" could not be found.' %\n\u001b[1;32m--> 371\u001b[1;33m                                   key)\n\u001b[0m\u001b[0;32m    372\u001b[0m             \u001b[1;32mif\u001b[0m \u001b[0mlen\u001b[0m\u001b[1;33m(\u001b[0m\u001b[0mexp\u001b[0m\u001b[1;33m)\u001b[0m \u001b[1;33m==\u001b[0m \u001b[1;36m1\u001b[0m\u001b[1;33m:\u001b[0m\u001b[1;33m\u001b[0m\u001b[1;33m\u001b[0m\u001b[0m\n\u001b[0;32m    373\u001b[0m                 \u001b[0mexp\u001b[0m \u001b[1;33m=\u001b[0m \u001b[0mexp\u001b[0m\u001b[1;33m[\u001b[0m\u001b[1;36m0\u001b[0m\u001b[1;33m]\u001b[0m\u001b[1;33m\u001b[0m\u001b[1;33m\u001b[0m\u001b[0m\n",
      "\u001b[1;31mQiskitError\u001b[0m: 'Data for experiment \"circuit-270\" could not be found.'"
     ]
    }
   ],
   "source": [
    "# run the algorithm on all four oracles and check the results\n",
    "\n",
    "fns = make_oracles()\n",
    "#print('The oracles')\n",
    "#for fn in fns:\n",
    "#    print(fn.name)\n",
    "#    fn.draw()\n",
    "#    print(fn)\n",
    "    \n",
    "print(\"\\nDeutsch's algorithm run on each oracle\")\n",
    "for fn in fns:\n",
    "#    deutsch = make_deutsch(fn)\n",
    "\n",
    "    deutsch = QuantumCircuit(2, 1)\n",
    "    deutsch.x(1)\n",
    "    deutsch.h(0)\n",
    "    deutsch.h(1)\n",
    "    deutsch.append(fn.to_instruction(), [0, 1])\n",
    "    deutsch.h(0)\n",
    "    deutsch.measure([0], [0])\n",
    "    \n",
    "    deutsch.draw()\n",
    "    print(deutsch)\n",
    "    simulator = QasmSimulator()\n",
    "    compiled_circuit = transpile(deutsch, simulator)\n",
    "    job = simulator.run(deutsch, shots=100)\n",
    "    counts = result.get_counts(deutsch)\n",
    "    print(\"\\nTotal counts are:\", counts)\n",
    "    print()\n",
    "    print()\n"
   ]
  },
  {
   "cell_type": "code",
   "execution_count": null,
   "id": "161e9ce6-eca3-4dc3-a215-a8c3c8ae5cb5",
   "metadata": {},
   "outputs": [],
   "source": []
  },
  {
   "cell_type": "code",
   "execution_count": null,
   "id": "c04441d3-d3e1-46b6-9eae-7d55e0c772cd",
   "metadata": {},
   "outputs": [],
   "source": []
  }
 ],
 "metadata": {
  "kernelspec": {
   "display_name": "Python 3",
   "language": "python",
   "name": "python3"
  },
  "language_info": {
   "codemirror_mode": {
    "name": "ipython",
    "version": 3
   },
   "file_extension": ".py",
   "mimetype": "text/x-python",
   "name": "python",
   "nbconvert_exporter": "python",
   "pygments_lexer": "ipython3",
   "version": "3.7.1"
  }
 },
 "nbformat": 4,
 "nbformat_minor": 5
}
